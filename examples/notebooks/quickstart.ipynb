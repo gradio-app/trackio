{
  "nbformat": 4,
  "nbformat_minor": 0,
  "metadata": {
    "colab": {
      "provenance": [],
      "authorship_tag": "ABX9TyPtqAbSpD/QqxOkuK4BIqjP"
    },
    "kernelspec": {
      "name": "python3",
      "display_name": "Python 3"
    },
    "language_info": {
      "name": "python"
    }
  },
  "cells": [
    {
      "cell_type": "markdown",
      "source": [
        "## Setup and Imports"
      ],
      "metadata": {
        "id": "NUu8Whb-pFQb"
      }
    },
    {
      "cell_type": "code",
      "execution_count": null,
      "metadata": {
        "id": "GGUMoRoLpAPm"
      },
      "outputs": [],
      "source": [
        "!pip install -Uq trackio"
      ]
    },
    {
      "cell_type": "code",
      "source": [
        "import trackio"
      ],
      "metadata": {
        "id": "S5tUKE8cpp2l"
      },
      "execution_count": null,
      "outputs": []
    },
    {
      "cell_type": "markdown",
      "source": [
        "## Initialize a project\n",
        "\n",
        "We will initialize a project, which will hold a collection of runs. You can consider runs to be each individual experiment."
      ],
      "metadata": {
        "id": "n5FU2Dfap0G3"
      }
    },
    {
      "cell_type": "code",
      "source": [
        "experiment_1 = trackio.init(\n",
        "    project=\"quickstart\",\n",
        "    name=\"experiment_1\",\n",
        "    space_id=\"quickstart-trackio\"\n",
        ")"
      ],
      "metadata": {
        "id": "5qzsH21Hp3WJ"
      },
      "execution_count": null,
      "outputs": []
    },
    {
      "cell_type": "markdown",
      "source": [
        "After we have initialized a run for a project, it is time we log some metrics."
      ],
      "metadata": {
        "id": "ErSvi3vds5Ga"
      }
    },
    {
      "cell_type": "code",
      "source": [
        "for idx in range(100):\n",
        "    experiment_1.log(\n",
        "        {\n",
        "            \"idx\": idx,\n",
        "            \"loss\": 100 - idx,\n",
        "        }\n",
        "    )"
      ],
      "metadata": {
        "id": "IKbC9Z68q37i"
      },
      "execution_count": null,
      "outputs": []
    },
    {
      "cell_type": "markdown",
      "source": [
        "After upload the metrics let's finish this experiment."
      ],
      "metadata": {
        "id": "LdYuRsC9tcqt"
      }
    },
    {
      "cell_type": "code",
      "source": [
        "experiment_1.finish()"
      ],
      "metadata": {
        "id": "YlE7aQoMthfB"
      },
      "execution_count": null,
      "outputs": []
    },
    {
      "cell_type": "markdown",
      "source": [
        "## Adding configuration\n",
        "\n",
        "Each experiment we run has different configurations. Here we will tag configs to runs.\n",
        "\n",
        "You can also use the `config` attribute when you run the experiment."
      ],
      "metadata": {
        "id": "r_cPwOBLtlUW"
      }
    },
    {
      "cell_type": "code",
      "source": [
        "config = {\n",
        "    \"lr\": 0.01,\n",
        "}\n",
        "experiment_2 = trackio.init(\n",
        "    project=\"quickstart\",\n",
        "    name=\"experiment_2\",\n",
        "    space_id=\"quickstart-trackio\",\n",
        "    config=config,\n",
        ")"
      ],
      "metadata": {
        "id": "f0rp8fsqrXh2"
      },
      "execution_count": null,
      "outputs": []
    },
    {
      "cell_type": "code",
      "source": [
        "experiment_2.config"
      ],
      "metadata": {
        "id": "T2JjMQiPuEId"
      },
      "execution_count": null,
      "outputs": []
    },
    {
      "cell_type": "code",
      "source": [
        "for idx in range(100):\n",
        "    experiment_2.log(\n",
        "        {\n",
        "            \"idx\": idx,\n",
        "            \"loss\": 100 - idx * experiment_2.config[\"lr\"], # We use the config here.\n",
        "        }\n",
        "    )"
      ],
      "metadata": {
        "id": "SH7RbXySt5_s"
      },
      "execution_count": null,
      "outputs": []
    },
    {
      "cell_type": "code",
      "source": [
        "experiment_2.finish()"
      ],
      "metadata": {
        "id": "4V936sOeubef"
      },
      "execution_count": null,
      "outputs": []
    },
    {
      "cell_type": "markdown",
      "source": [
        "## Wrapping it all together"
      ],
      "metadata": {
        "id": "sbSpcYYiud04"
      }
    },
    {
      "cell_type": "code",
      "source": [
        "import random\n",
        "num_experiments = 5\n",
        "epochs = 100\n",
        "\n",
        "for idx in range(num_experiments):\n",
        "    experiment = trackio.init(\n",
        "        project=\"quickstart\",\n",
        "        name=f\"experiment_{idx}\",\n",
        "        space_id=\"quickstart-trackio\"\n",
        "    )\n",
        "\n",
        "    for epoch in range(epochs):\n",
        "        train_loss = random.uniform(0.2, 1.0)\n",
        "        train_acc = random.uniform(0.6, 0.95)\n",
        "\n",
        "        val_loss = train_loss - random.uniform(0.01, 0.1)\n",
        "        val_acc = train_acc + random.uniform(0.01, 0.05)\n",
        "\n",
        "        experiment.log({\n",
        "            \"epoch\": epoch,\n",
        "            \"train_loss\": train_loss,\n",
        "            \"train_accuracy\": train_acc,\n",
        "            \"val_loss\": val_loss,\n",
        "            \"val_accuracy\": val_acc\n",
        "        })\n",
        "\n",
        "    experiment.finish()"
      ],
      "metadata": {
        "id": "I7Hfo4DXpomp"
      },
      "execution_count": null,
      "outputs": []
    },
    {
      "cell_type": "markdown",
      "source": [
        "##"
      ],
      "metadata": {
        "id": "oDqjsYEJpIdN"
      }
    }
  ]
}